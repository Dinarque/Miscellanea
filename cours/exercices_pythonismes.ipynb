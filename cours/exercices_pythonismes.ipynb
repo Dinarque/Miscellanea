{
  "nbformat": 4,
  "nbformat_minor": 0,
  "metadata": {
    "colab": {
      "provenance": [],
      "authorship_tag": "ABX9TyNo569upn58Njwnfs71Pui7",
      "include_colab_link": true
    },
    "kernelspec": {
      "name": "python3",
      "display_name": "Python 3"
    },
    "language_info": {
      "name": "python"
    }
  },
  "cells": [
    {
      "cell_type": "markdown",
      "metadata": {
        "id": "view-in-github",
        "colab_type": "text"
      },
      "source": [
        "<a href=\"https://colab.research.google.com/github/Dinarque/Miscellanea/blob/main/cours/exercices_pythonismes.ipynb\" target=\"_parent\"><img src=\"https://colab.research.google.com/assets/colab-badge.svg\" alt=\"Open In Colab\"/></a>"
      ]
    },
    {
      "cell_type": "code",
      "execution_count": null,
      "metadata": {
        "id": "SimuWMrtVpKM"
      },
      "outputs": [],
      "source": []
    },
    {
      "cell_type": "markdown",
      "source": [
        "En une ligne de code, retournez la liste des nombres pairs présents dans la liste suivante"
      ],
      "metadata": {
        "id": "YCXaHOf_bmae"
      }
    },
    {
      "cell_type": "code",
      "source": [
        "liste = [1,25,4,6,8,95,32,65,45,54,1,7,2,0]"
      ],
      "metadata": {
        "id": "KR4zx0C6VsLb"
      },
      "execution_count": null,
      "outputs": []
    },
    {
      "cell_type": "markdown",
      "source": [
        "Ecrire ***en une ligne de code *** un dictionnaire qui attribue à un mot dans une liste son index dans une liste de mots"
      ],
      "metadata": {
        "id": "vNaaNkJDVsgr"
      }
    },
    {
      "cell_type": "code",
      "source": [
        "liste = [\"chacal\",\"renard\",\"caribou\",\"chat\",\"boucanal\"]"
      ],
      "metadata": {
        "id": "L4c-P5VvV7Q1"
      },
      "execution_count": null,
      "outputs": []
    },
    {
      "cell_type": "markdown",
      "source": [
        "En **Une seule ligne de code** combinez deux listes de taille égale en un dicitonnaire"
      ],
      "metadata": {
        "id": "VkcF7fmhapsJ"
      }
    },
    {
      "cell_type": "code",
      "source": [
        "liste_cles = ['a', 'b', 'c']\n",
        "liste_valeurs = [1, 2, 3]"
      ],
      "metadata": {
        "id": "-dc-oog0axkz"
      },
      "execution_count": null,
      "outputs": []
    }
  ]
}